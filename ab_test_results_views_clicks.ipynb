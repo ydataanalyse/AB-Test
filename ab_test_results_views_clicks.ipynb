{
 "cells": [
  {
   "cell_type": "code",
   "execution_count": null,
   "id": "b3a2bcb9-4912-48f9-be85-57b3fc536c67",
   "metadata": {},
   "outputs": [],
   "source": [
    "# Question qu'on souhaite répondre : Quel est l'impact des deux groupes sur les taux de clics des utilisateurs ?"
   ]
  },
  {
   "cell_type": "code",
   "execution_count": 8,
   "id": "3ad21457-9744-4c6a-9b56-a93ec554b2b9",
   "metadata": {},
   "outputs": [
    {
     "data": {
      "text/plain": [
       "'/Users/yaha/Documents'"
      ]
     },
     "execution_count": 8,
     "metadata": {},
     "output_type": "execute_result"
    }
   ],
   "source": [
    "pwd"
   ]
  },
  {
   "cell_type": "code",
   "execution_count": 9,
   "id": "2c9b400a-d5c7-460a-9a84-3fa901f51b2f",
   "metadata": {},
   "outputs": [],
   "source": [
    "import pandas as pd"
   ]
  },
  {
   "cell_type": "code",
   "execution_count": 20,
   "id": "ef265382-684d-404b-9685-8500db97e633",
   "metadata": {},
   "outputs": [
    {
     "data": {
      "text/html": [
       "<div>\n",
       "<style scoped>\n",
       "    .dataframe tbody tr th:only-of-type {\n",
       "        vertical-align: middle;\n",
       "    }\n",
       "\n",
       "    .dataframe tbody tr th {\n",
       "        vertical-align: top;\n",
       "    }\n",
       "\n",
       "    .dataframe thead th {\n",
       "        text-align: right;\n",
       "    }\n",
       "</style>\n",
       "<table border=\"1\" class=\"dataframe\">\n",
       "  <thead>\n",
       "    <tr style=\"text-align: right;\">\n",
       "      <th></th>\n",
       "      <th>user_id</th>\n",
       "      <th>group</th>\n",
       "      <th>views</th>\n",
       "      <th>clicks</th>\n",
       "    </tr>\n",
       "  </thead>\n",
       "  <tbody>\n",
       "    <tr>\n",
       "      <th>0</th>\n",
       "      <td>1</td>\n",
       "      <td>control</td>\n",
       "      <td>10.0</td>\n",
       "      <td>0.0</td>\n",
       "    </tr>\n",
       "    <tr>\n",
       "      <th>1</th>\n",
       "      <td>2</td>\n",
       "      <td>control</td>\n",
       "      <td>1.0</td>\n",
       "      <td>0.0</td>\n",
       "    </tr>\n",
       "    <tr>\n",
       "      <th>2</th>\n",
       "      <td>3</td>\n",
       "      <td>control</td>\n",
       "      <td>1.0</td>\n",
       "      <td>0.0</td>\n",
       "    </tr>\n",
       "    <tr>\n",
       "      <th>3</th>\n",
       "      <td>4</td>\n",
       "      <td>control</td>\n",
       "      <td>2.0</td>\n",
       "      <td>0.0</td>\n",
       "    </tr>\n",
       "    <tr>\n",
       "      <th>4</th>\n",
       "      <td>5</td>\n",
       "      <td>control</td>\n",
       "      <td>3.0</td>\n",
       "      <td>0.0</td>\n",
       "    </tr>\n",
       "    <tr>\n",
       "      <th>...</th>\n",
       "      <td>...</td>\n",
       "      <td>...</td>\n",
       "      <td>...</td>\n",
       "      <td>...</td>\n",
       "    </tr>\n",
       "    <tr>\n",
       "      <th>119995</th>\n",
       "      <td>119996</td>\n",
       "      <td>test</td>\n",
       "      <td>9.0</td>\n",
       "      <td>0.0</td>\n",
       "    </tr>\n",
       "    <tr>\n",
       "      <th>119996</th>\n",
       "      <td>119997</td>\n",
       "      <td>test</td>\n",
       "      <td>2.0</td>\n",
       "      <td>1.0</td>\n",
       "    </tr>\n",
       "    <tr>\n",
       "      <th>119997</th>\n",
       "      <td>119998</td>\n",
       "      <td>test</td>\n",
       "      <td>20.0</td>\n",
       "      <td>1.0</td>\n",
       "    </tr>\n",
       "    <tr>\n",
       "      <th>119998</th>\n",
       "      <td>119999</td>\n",
       "      <td>test</td>\n",
       "      <td>6.0</td>\n",
       "      <td>1.0</td>\n",
       "    </tr>\n",
       "    <tr>\n",
       "      <th>119999</th>\n",
       "      <td>120000</td>\n",
       "      <td>test</td>\n",
       "      <td>2.0</td>\n",
       "      <td>0.0</td>\n",
       "    </tr>\n",
       "  </tbody>\n",
       "</table>\n",
       "<p>120000 rows × 4 columns</p>\n",
       "</div>"
      ],
      "text/plain": [
       "        user_id    group  views  clicks\n",
       "0             1  control   10.0     0.0\n",
       "1             2  control    1.0     0.0\n",
       "2             3  control    1.0     0.0\n",
       "3             4  control    2.0     0.0\n",
       "4             5  control    3.0     0.0\n",
       "...         ...      ...    ...     ...\n",
       "119995   119996     test    9.0     0.0\n",
       "119996   119997     test    2.0     1.0\n",
       "119997   119998     test   20.0     1.0\n",
       "119998   119999     test    6.0     1.0\n",
       "119999   120000     test    2.0     0.0\n",
       "\n",
       "[120000 rows x 4 columns]"
      ]
     },
     "execution_count": 20,
     "metadata": {},
     "output_type": "execute_result"
    }
   ],
   "source": [
    "df = pd.read_csv('ab_test_results.csv', sep=',')\n",
    "df"
   ]
  },
  {
   "cell_type": "code",
   "execution_count": 21,
   "id": "8665f1d3-79e3-4363-ae16-bd91ccffb261",
   "metadata": {},
   "outputs": [
    {
     "data": {
      "text/plain": [
       "user_id    0\n",
       "group      0\n",
       "views      0\n",
       "clicks     0\n",
       "dtype: int64"
      ]
     },
     "execution_count": 21,
     "metadata": {},
     "output_type": "execute_result"
    }
   ],
   "source": [
    "#Détection des valeurs manquantes\n",
    "df.isnull().sum()"
   ]
  },
  {
   "cell_type": "code",
   "execution_count": 22,
   "id": "81cf70f5-b9ca-4bc4-85e1-8c1478041889",
   "metadata": {},
   "outputs": [
    {
     "name": "stdout",
     "output_type": "stream",
     "text": [
      "<class 'pandas.core.frame.DataFrame'>\n",
      "RangeIndex: 120000 entries, 0 to 119999\n",
      "Data columns (total 4 columns):\n",
      " #   Column   Non-Null Count   Dtype  \n",
      "---  ------   --------------   -----  \n",
      " 0   user_id  120000 non-null  int64  \n",
      " 1   group    120000 non-null  object \n",
      " 2   views    120000 non-null  float64\n",
      " 3   clicks   120000 non-null  float64\n",
      "dtypes: float64(2), int64(1), object(1)\n",
      "memory usage: 3.7+ MB\n"
     ]
    }
   ],
   "source": [
    "#Informations sur la dataframe\n",
    "df.info()"
   ]
  },
  {
   "cell_type": "code",
   "execution_count": 11,
   "id": "6a075bb9-c106-4c8f-aa87-b34b768f824f",
   "metadata": {},
   "outputs": [
    {
     "data": {
      "text/plain": [
       "0"
      ]
     },
     "execution_count": 11,
     "metadata": {},
     "output_type": "execute_result"
    }
   ],
   "source": [
    "df.duplicated().sum()"
   ]
  },
  {
   "cell_type": "code",
   "execution_count": 24,
   "id": "136b9174-3dd6-43aa-b29e-72acf53f7d41",
   "metadata": {},
   "outputs": [
    {
     "data": {
      "text/html": [
       "<div>\n",
       "<style scoped>\n",
       "    .dataframe tbody tr th:only-of-type {\n",
       "        vertical-align: middle;\n",
       "    }\n",
       "\n",
       "    .dataframe tbody tr th {\n",
       "        vertical-align: top;\n",
       "    }\n",
       "\n",
       "    .dataframe thead th {\n",
       "        text-align: right;\n",
       "    }\n",
       "</style>\n",
       "<table border=\"1\" class=\"dataframe\">\n",
       "  <thead>\n",
       "    <tr style=\"text-align: right;\">\n",
       "      <th></th>\n",
       "      <th>user_id</th>\n",
       "      <th>views</th>\n",
       "      <th>clicks</th>\n",
       "    </tr>\n",
       "  </thead>\n",
       "  <tbody>\n",
       "    <tr>\n",
       "      <th>count</th>\n",
       "      <td>120000.000000</td>\n",
       "      <td>120000.000000</td>\n",
       "      <td>120000.000000</td>\n",
       "    </tr>\n",
       "    <tr>\n",
       "      <th>mean</th>\n",
       "      <td>60000.500000</td>\n",
       "      <td>4.991075</td>\n",
       "      <td>0.182692</td>\n",
       "    </tr>\n",
       "    <tr>\n",
       "      <th>std</th>\n",
       "      <td>34641.160489</td>\n",
       "      <td>5.915200</td>\n",
       "      <td>0.472547</td>\n",
       "    </tr>\n",
       "    <tr>\n",
       "      <th>min</th>\n",
       "      <td>1.000000</td>\n",
       "      <td>1.000000</td>\n",
       "      <td>0.000000</td>\n",
       "    </tr>\n",
       "    <tr>\n",
       "      <th>25%</th>\n",
       "      <td>30000.750000</td>\n",
       "      <td>2.000000</td>\n",
       "      <td>0.000000</td>\n",
       "    </tr>\n",
       "    <tr>\n",
       "      <th>50%</th>\n",
       "      <td>60000.500000</td>\n",
       "      <td>3.000000</td>\n",
       "      <td>0.000000</td>\n",
       "    </tr>\n",
       "    <tr>\n",
       "      <th>75%</th>\n",
       "      <td>90000.250000</td>\n",
       "      <td>6.000000</td>\n",
       "      <td>0.000000</td>\n",
       "    </tr>\n",
       "    <tr>\n",
       "      <th>max</th>\n",
       "      <td>120000.000000</td>\n",
       "      <td>205.000000</td>\n",
       "      <td>9.000000</td>\n",
       "    </tr>\n",
       "  </tbody>\n",
       "</table>\n",
       "</div>"
      ],
      "text/plain": [
       "             user_id          views         clicks\n",
       "count  120000.000000  120000.000000  120000.000000\n",
       "mean    60000.500000       4.991075       0.182692\n",
       "std     34641.160489       5.915200       0.472547\n",
       "min         1.000000       1.000000       0.000000\n",
       "25%     30000.750000       2.000000       0.000000\n",
       "50%     60000.500000       3.000000       0.000000\n",
       "75%     90000.250000       6.000000       0.000000\n",
       "max    120000.000000     205.000000       9.000000"
      ]
     },
     "execution_count": 24,
     "metadata": {},
     "output_type": "execute_result"
    }
   ],
   "source": [
    "df.describe()"
   ]
  },
  {
   "cell_type": "code",
   "execution_count": 26,
   "id": "686c1a52-4b88-4c57-805f-00d5dd0baf89",
   "metadata": {},
   "outputs": [
    {
     "data": {
      "image/png": "[encoded data removed]",
      "text/plain": [
       "<Figure size 432x288 with 1 Axes>"
      ]
     },
     "metadata": {
      "needs_background": "light"
     },
     "output_type": "display_data"
    },
    {
     "data": {
      "image/png": "[encoded data removed]",
      "text/plain": [
       "<Figure size 432x288 with 1 Axes>"
      ]
     },
     "metadata": {
      "needs_background": "light"
     },
     "output_type": "display_data"
    }
   ],
   "source": [
    "import matplotlib.pyplot as plt\n",
    "\n",
    "plt.hist(df[\"views\"], bins=20)\n",
    "plt.xlabel(\"Nombre de vues\")\n",
    "plt.ylabel(\"Fréquence\")\n",
    "plt.title(\"Distribution du nombre de vues\")\n",
    "plt.show()\n",
    "\n",
    "plt.hist(df[\"clicks\"], bins=20)\n",
    "plt.xlabel(\"Nombre de clics\")\n",
    "plt.ylabel(\"Fréquence\")\n",
    "plt.title(\"Distribution du nombre de clics\")\n",
    "plt.show()"
   ]
  },
  {
   "cell_type": "code",
   "execution_count": 27,
   "id": "918c9f02-fb91-4979-b91a-ebe11cee4683",
   "metadata": {},
   "outputs": [
    {
     "data": {
      "text/plain": [
       "control    60000\n",
       "test       60000\n",
       "Name: group, dtype: int64"
      ]
     },
     "execution_count": 27,
     "metadata": {},
     "output_type": "execute_result"
    }
   ],
   "source": [
    "df[\"group\"].value_counts()"
   ]
  },
  {
   "cell_type": "code",
   "execution_count": 29,
   "id": "67897ba1-596e-4363-99a2-7826bc6f2db6",
   "metadata": {},
   "outputs": [],
   "source": [
    "#séparer les données en deux groupes différents, selon la variable \"group\"\n",
    "\n",
    "control_group = df[df['group'] == 'control']\n",
    "test_group = df[df['group'] == 'test']"
   ]
  },
  {
   "cell_type": "code",
   "execution_count": 31,
   "id": "82969d60-11d8-417b-a1c0-dda1d046846e",
   "metadata": {},
   "outputs": [
    {
     "data": {
      "text/html": [
       "<div>\n",
       "<style scoped>\n",
       "    .dataframe tbody tr th:only-of-type {\n",
       "        vertical-align: middle;\n",
       "    }\n",
       "\n",
       "    .dataframe tbody tr th {\n",
       "        vertical-align: top;\n",
       "    }\n",
       "\n",
       "    .dataframe thead th {\n",
       "        text-align: right;\n",
       "    }\n",
       "</style>\n",
       "<table border=\"1\" class=\"dataframe\">\n",
       "  <thead>\n",
       "    <tr style=\"text-align: right;\">\n",
       "      <th></th>\n",
       "      <th>user_id</th>\n",
       "      <th>group</th>\n",
       "      <th>views</th>\n",
       "      <th>clicks</th>\n",
       "    </tr>\n",
       "  </thead>\n",
       "  <tbody>\n",
       "    <tr>\n",
       "      <th>0</th>\n",
       "      <td>1</td>\n",
       "      <td>control</td>\n",
       "      <td>10.0</td>\n",
       "      <td>0.0</td>\n",
       "    </tr>\n",
       "    <tr>\n",
       "      <th>1</th>\n",
       "      <td>2</td>\n",
       "      <td>control</td>\n",
       "      <td>1.0</td>\n",
       "      <td>0.0</td>\n",
       "    </tr>\n",
       "    <tr>\n",
       "      <th>2</th>\n",
       "      <td>3</td>\n",
       "      <td>control</td>\n",
       "      <td>1.0</td>\n",
       "      <td>0.0</td>\n",
       "    </tr>\n",
       "    <tr>\n",
       "      <th>3</th>\n",
       "      <td>4</td>\n",
       "      <td>control</td>\n",
       "      <td>2.0</td>\n",
       "      <td>0.0</td>\n",
       "    </tr>\n",
       "    <tr>\n",
       "      <th>4</th>\n",
       "      <td>5</td>\n",
       "      <td>control</td>\n",
       "      <td>3.0</td>\n",
       "      <td>0.0</td>\n",
       "    </tr>\n",
       "  </tbody>\n",
       "</table>\n",
       "</div>"
      ],
      "text/plain": [
       "   user_id    group  views  clicks\n",
       "0        1  control   10.0     0.0\n",
       "1        2  control    1.0     0.0\n",
       "2        3  control    1.0     0.0\n",
       "3        4  control    2.0     0.0\n",
       "4        5  control    3.0     0.0"
      ]
     },
     "execution_count": 31,
     "metadata": {},
     "output_type": "execute_result"
    }
   ],
   "source": [
    "control_group.head(5)"
   ]
  },
  {
   "cell_type": "code",
   "execution_count": 32,
   "id": "13042424-9cab-4605-979c-51f41eb26e86",
   "metadata": {},
   "outputs": [
    {
     "data": {
      "text/html": [
       "<div>\n",
       "<style scoped>\n",
       "    .dataframe tbody tr th:only-of-type {\n",
       "        vertical-align: middle;\n",
       "    }\n",
       "\n",
       "    .dataframe tbody tr th {\n",
       "        vertical-align: top;\n",
       "    }\n",
       "\n",
       "    .dataframe thead th {\n",
       "        text-align: right;\n",
       "    }\n",
       "</style>\n",
       "<table border=\"1\" class=\"dataframe\">\n",
       "  <thead>\n",
       "    <tr style=\"text-align: right;\">\n",
       "      <th></th>\n",
       "      <th>user_id</th>\n",
       "      <th>group</th>\n",
       "      <th>views</th>\n",
       "      <th>clicks</th>\n",
       "    </tr>\n",
       "  </thead>\n",
       "  <tbody>\n",
       "    <tr>\n",
       "      <th>60000</th>\n",
       "      <td>60001</td>\n",
       "      <td>test</td>\n",
       "      <td>2.0</td>\n",
       "      <td>0.0</td>\n",
       "    </tr>\n",
       "    <tr>\n",
       "      <th>60001</th>\n",
       "      <td>60002</td>\n",
       "      <td>test</td>\n",
       "      <td>8.0</td>\n",
       "      <td>0.0</td>\n",
       "    </tr>\n",
       "    <tr>\n",
       "      <th>60002</th>\n",
       "      <td>60003</td>\n",
       "      <td>test</td>\n",
       "      <td>12.0</td>\n",
       "      <td>0.0</td>\n",
       "    </tr>\n",
       "    <tr>\n",
       "      <th>60003</th>\n",
       "      <td>60004</td>\n",
       "      <td>test</td>\n",
       "      <td>2.0</td>\n",
       "      <td>0.0</td>\n",
       "    </tr>\n",
       "    <tr>\n",
       "      <th>60004</th>\n",
       "      <td>60005</td>\n",
       "      <td>test</td>\n",
       "      <td>7.0</td>\n",
       "      <td>1.0</td>\n",
       "    </tr>\n",
       "  </tbody>\n",
       "</table>\n",
       "</div>"
      ],
      "text/plain": [
       "       user_id group  views  clicks\n",
       "60000    60001  test    2.0     0.0\n",
       "60001    60002  test    8.0     0.0\n",
       "60002    60003  test   12.0     0.0\n",
       "60003    60004  test    2.0     0.0\n",
       "60004    60005  test    7.0     1.0"
      ]
     },
     "execution_count": 32,
     "metadata": {},
     "output_type": "execute_result"
    }
   ],
   "source": [
    "test_group.head(5)"
   ]
  },
  {
   "cell_type": "code",
   "execution_count": 33,
   "id": "71463e99-ff56-4cfc-b2ae-db1be72768a6",
   "metadata": {},
   "outputs": [],
   "source": [
    "#diviser le nombre total de clics par le nombre total pour calculer le taux de clics moyen pour chaque groupe\n",
    "\n",
    "control_click_through_rate = control_group['clicks'].sum() / control_group['views'].sum()\n",
    "test_click_through_rate = test_group['clicks'].sum() / test_group['views'].sum()"
   ]
  },
  {
   "cell_type": "code",
   "execution_count": 34,
   "id": "faabed87-4942-4960-b50a-c4a6816f4fff",
   "metadata": {},
   "outputs": [
    {
     "data": {
      "text/plain": [
       "0.03467342433298334"
      ]
     },
     "execution_count": 34,
     "metadata": {},
     "output_type": "execute_result"
    }
   ],
   "source": [
    "control_click_through_rate"
   ]
  },
  {
   "cell_type": "code",
   "execution_count": 35,
   "id": "df043b96-840a-4d7e-82cf-9e6cbf7cd135",
   "metadata": {},
   "outputs": [
    {
     "data": {
      "text/plain": [
       "0.03850423314611395"
      ]
     },
     "execution_count": 35,
     "metadata": {},
     "output_type": "execute_result"
    }
   ],
   "source": [
    "test_click_through_rate"
   ]
  },
  {
   "cell_type": "code",
   "execution_count": 36,
   "id": "247597bb-64aa-4e9b-9113-391fbd45d116",
   "metadata": {},
   "outputs": [],
   "source": [
    "#calculer le nombre moyen de vues par utilisateur pour chaque groupe\n",
    "control_views_per_user = control_group['views'].sum() / len(control_group['user_id'].unique())\n",
    "test_views_per_user = test_group['views'].sum() / len(test_group['user_id'].unique())"
   ]
  },
  {
   "cell_type": "code",
   "execution_count": 37,
   "id": "eccc61e9-c1e1-4233-bc64-8f62003be49f",
   "metadata": {},
   "outputs": [
    {
     "name": "stdout",
     "output_type": "stream",
     "text": [
      "Control Group:\n",
      "Click-Through Rate: 3.47%\n",
      "Views per User: 4.95\n",
      "\n",
      "Test Group:\n",
      "Click-Through Rate: 3.85%\n",
      "Views per User: 5.03\n"
     ]
    }
   ],
   "source": [
    "# comparer les résultats entre les deux groupes\n",
    "\n",
    "print(\"Click-Through Rate: {:.2%}\".format(control_click_through_rate))\n",
    "print(\"Views per User: {:.2f}\\n\".format(control_views_per_user))\n",
    "\n",
    "print(\"Test Group:\")\n",
    "print(\"Click-Through Rate: {:.2%}\".format(test_click_through_rate))\n",
    "print(\"Views per User: {:.2f}\".format(test_views_per_user))"
   ]
  },
  {
   "cell_type": "code",
   "execution_count": 52,
   "id": "5a4f3f5c-f823-433c-a331-165ff64186a9",
   "metadata": {},
   "outputs": [
    {
     "data": {
      "image/png": "[encoded data removed]",
      "text/plain": [
       "<Figure size 432x288 with 1 Axes>"
      ]
     },
     "metadata": {
      "needs_background": "light"
     },
     "output_type": "display_data"
    }
   ],
   "source": [
    "# afficher les taux de clics et de vues pour chaque groupe dans un graphique\n",
    "\n",
    "import matplotlib.pyplot as plt\n",
    "import numpy as np\n",
    "\n",
    "# Données à visualiser\n",
    "control_ctrs = 3.47\n",
    "test_ctrs = 3.85\n",
    "control_views = 4.95\n",
    "test_views = 5.03\n",
    "\n",
    "# Création des barres\n",
    "ctrs = [control_ctrs, test_ctrs]\n",
    "views = [control_views, test_views]\n",
    "bar_width = 0.35\n",
    "index = np.arange(2)\n",
    "\n",
    "# Création de la figure\n",
    "fig, ax = plt.subplots()\n",
    "rects1 = ax.bar(index, ctrs, bar_width, color='b', label='Click-Through Rate')\n",
    "rects2 = ax.bar(index + bar_width, views, bar_width, color='g', label='Views per User')\n",
    "\n",
    "# Ajout des étiquettes, de la légende et des titres\n",
    "ax.set_xlabel('Group')\n",
    "ax.set_ylabel('Rate')\n",
    "ax.set_xticks(index + bar_width / 2)\n",
    "ax.set_xticklabels(('Control', 'Test'))\n",
    "ax.legend()\n",
    "plt.title('Click-Through Rate and Views per User by Group')\n",
    "\n",
    "# Affichage du graphique\n",
    "plt.show()\n"
   ]
  },
  {
   "cell_type": "markdown",
   "id": "16e1fe71-e20e-4352-bf45-b94d1c51d767",
   "metadata": {},
   "source": [
    "Les résultats indiquent que le groupe test a un taux de clics moyen de 3,85%, tandis que le groupe de contrôle a un taux de clics moyen de 3,47%. \n",
    "\n",
    "Le taux de clics du groupe test est donc légèrement plus élevé que celui du groupe de contrôle.\n",
    "\n",
    "les résultats montrent également que le nombre moyen de vues par utilisateur est légèrement plus élevé dans le groupe test (5,03) que dans le groupe de contrôle (4,95). Cela suggère que les utilisateurs du groupe test ont peut-être été exposés à plus de contenu, ce qui pourrait expliquer leur taux de clics plus élevé."
   ]
  },
  {
   "cell_type": "code",
   "execution_count": null,
   "id": "e4e825cf-14cf-4613-9583-c5f6a8d03245",
   "metadata": {},
   "outputs": [],
   "source": []
  }
 ],
 "metadata": {
  "kernelspec": {
   "display_name": "Python 3 (ipykernel)",
   "language": "python",
   "name": "python3"
  },
  "language_info": {
   "codemirror_mode": {
    "name": "ipython",
    "version": 3
   },
   "file_extension": ".py",
   "mimetype": "text/x-python",
   "name": "python",
   "nbconvert_exporter": "python",
   "pygments_lexer": "ipython3",
   "version": "3.9.12"
  }
 },
 "nbformat": 4,
 "nbformat_minor": 5
}
